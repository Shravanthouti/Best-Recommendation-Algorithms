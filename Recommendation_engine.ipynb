{
  "nbformat": 4,
  "nbformat_minor": 0,
  "metadata": {
    "colab": {
      "name": "Recommendation engine.ipynb",
      "provenance": [],
      "collapsed_sections": []
    },
    "kernelspec": {
      "name": "python3",
      "display_name": "Python 3"
    },
    "language_info": {
      "name": "python"
    }
  },
  "cells": [
    {
      "cell_type": "markdown",
      "metadata": {
        "id": "qvn9Im2fUIKy"
      },
      "source": [
        "•\tWe will implement a friend recommendation system in python using collaborative filtering\n",
        "\n",
        "•\tWe plan to use and analyze two methods for recommending friends to a user based on their common friends and influence of number of friends.\n",
        "\n",
        "•\tTo find the potential friends we will measure them using the 'score' metric where a higher score would mean that user is a better candidate for being friend.\n",
        "\n",
        ".•\tWe will then test the recommendation system accuracy by removing the friendship edges of all friends in the Facebook data and then compute which method gives the most similar recommendations to that of the original data.\n",
        "\n",
        "•\tWe would perform many trails of randomly chosen users from the data to compute accuracies.\n",
        "\n",
        "•\tA subset map of friendship of the users will be displayed using edges and nodes in the form of graphs in python."
      ]
    },
    {
      "cell_type": "markdown",
      "metadata": {
        "id": "oQ3Dho56Ut40"
      },
      "source": [
        "\n",
        "# **Recommendation System**"
      ]
    },
    {
      "cell_type": "markdown",
      "metadata": {
        "id": "B1VO8ADGU8FZ"
      },
      "source": [
        "A recommender system or a recommendation system is a subclass of information filtering system that seeks to predict the \"rating\" or \"preference\" that a user would give to an item. Recommender systems have become increasingly popular in recent years and are utilized in a variety of areas including movies, music, news, books, research articles, search queries, social tags, and products in general. There are also recommender systems for experts, collaborators, jokes, restaurants, garments, financial services, life insurance, online dating, and Twitter pages. Facebook suggests people you could be friends with. The actual algorithms used by these companies are closely-guarded trade secrets. There are two general approaches: collaborative filtering and content-based filtering."
      ]
    },
    {
      "cell_type": "markdown",
      "metadata": {
        "id": "QcZY6qHfV2jt"
      },
      "source": [
        "# **Content based Filtering**"
      ]
    },
    {
      "cell_type": "markdown",
      "metadata": {
        "id": "EI8_wUkQVYQ7"
      },
      "source": [
        "•\tIdea: If you like an item then you will also like a \"similar\" item\n",
        "\n",
        "•\tBased on similarity of the items being recommended\n",
        "\n",
        "•\tIt generally works well when it's easy to determine the context/properties of each item. For instance, when we are recommending the same kind of item like a movie recommendation or song recommendation.\n"
      ]
    },
    {
      "cell_type": "markdown",
      "metadata": {
        "id": "uIQZd_4wVi1S"
      },
      "source": [
        "# **Collaborative filtering**"
      ]
    },
    {
      "cell_type": "markdown",
      "metadata": {
        "id": "MBHz-sS5VqUI"
      },
      "source": [
        "•\tIdea: If a person A likes item 1, 2, 3 and B like 2,3,4 then they have similar interests and A should like item 4 and B should like item 1.\n",
        "\n",
        "•\tThis algorithm is entirely based on the past behavior and not on the context. This makes it one of the most commonly used algorithm as it is not dependent on any additional information. • For instance: product recommendations by e-commerce player like Amazon and merchant recommendations by banks like American Express .\n",
        "\n",
        "User-User Collaborative filtering, Item-ltem Collaborative filtering and Other simpler algorithms"
      ]
    },
    {
      "cell_type": "markdown",
      "metadata": {
        "id": "cNmLxos4WMZG"
      },
      "source": [
        "In friend recommendation systems, the dataset contains people and their connections or friendships with other people. These connections are used as edges and people are used as nodes in a graph. The graph obtained from the dataset is called social network of friends. For a user, the recommendation system predicts the most suitable friend for becoming the friend in future."
      ]
    },
    {
      "cell_type": "markdown",
      "metadata": {
        "id": "LlmXRoe4XDEe"
      },
      "source": [
        "# Constructing a practice graph:"
      ]
    },
    {
      "cell_type": "code",
      "metadata": {
        "colab": {
          "base_uri": "https://localhost:8080/",
          "height": 319
        },
        "id": "-xQfki57XJq0",
        "outputId": "63e8f1c4-b27a-4f4c-f117-3305d84c1b57"
      },
      "source": [
        "import pandas as pd\n",
        "import networkx as nx\n",
        "import matplotlib.pyplot as plt\n",
        "\n",
        "p_graph = nx.Graph()\n",
        "\n",
        "p_graph.add_node(\"A\")\n",
        "p_graph.add_node(\"B\")\n",
        "p_graph.add_node(\"C\")\n",
        "p_graph.add_node(\"D\")\n",
        "p_graph.add_node(\"E\")\n",
        "p_graph.add_node(\"F\")\n",
        "p_graph.add_edge(\"A\", \"B\")\n",
        "p_graph.add_edge(\"A\", \"C\")\n",
        "p_graph.add_edge(\"B\", \"C\")\n",
        "p_graph.add_edge(\"B\", \"D\")\n",
        "p_graph.add_edge(\"C\", \"D\")\n",
        "p_graph.add_edge(\"D\", \"F\")\n",
        "p_graph.add_edge(\"D\", \"E\")\n",
        "p_graph.add_edge(\"C\", \"F\")\n",
        "\n",
        "\n",
        "assert len(p_graph.nodes()) == 6\n",
        "assert len(p_graph.edges()) == 8\n",
        "\n",
        "nx.draw(p_graph)\n",
        "plt.show()\n"
      ],
      "execution_count": 1,
      "outputs": [
        {
          "output_type": "display_data",
          "data": {
            "image/png": "[encoded data removed]",
            "text/plain": [
              "<Figure size 432x288 with 1 Axes>"
            ]
          },
          "metadata": {
            "tags": []
          }
        }
      ]
    },
    {
      "cell_type": "markdown",
      "metadata": {
        "id": "XyJ6FMHlXe5o"
      },
      "source": [
        "# **Algorithm 1 - Recommending by no. of common friends**\n"
      ]
    },
    {
      "cell_type": "markdown",
      "metadata": {
        "id": "ZqD7j7WRXu_a"
      },
      "source": [
        "One of the important factors while recommending new friends to a user is the number of mutual or common friends between them. As per the definition of collaborative filtering if two users have similar past preferences then their next maybe same as well, this makes common friends an important criteria. We will take graph of friends as input and output recommendation list of new friends based on number of common friends."
      ]
    },
    {
      "cell_type": "markdown",
      "metadata": {
        "id": "ruFZ_42wX21o"
      },
      "source": [
        "The Algorithm can be easily understood by using our practice graph. There are five nodes in the graph namely A,B,C,D,E and F. An edge between any two nodes ( for e.g A and B in the graph) implies that they are already friends.\n",
        "Lets say we want to find new friend recommendations for node A, from the graph it is clear that A is already friends with B and C. Hence the recommendation list won't include B, C and the user himself in our case A.\n",
        "We have implemented seven functions to achieve this, they are 1) friends(graph,user)\n",
        "2)\tfriends_of_friends(graph,user)\n",
        "3)\t ,user2)\n",
        "4)\tnumber_of_common_friends_map(graph,user)\n",
        "5)\tnumber_map_sorted_list(friendmap)\n",
        "6)\tnumber_map_sorted_list(friendmap)\n",
        "7)\trecommend_by_number_of_common_friends(graph,user)\n"
      ]
    },
    {
      "cell_type": "code",
      "metadata": {
        "id": "rbUA4WCpYATy"
      },
      "source": [
        "import operator\n",
        "import networkx as nx\n",
        "import matplotlib.pyplot as plt\n",
        "import random\n",
        "import sys\n",
        "\n",
        "def create_romeojuliet_graph():\n",
        "    rj = nx.Graph()\n",
        "    rj.add_node(\"Tybalt\")\n",
        "    rj.add_node(\"Nurse\")\n",
        "    rj.add_node(\"Juliet\")\n",
        "    rj.add_node(\"Friar Laurence\")\n",
        "    rj.add_node(\"Capulet\")\n",
        "    rj.add_node(\"Benvolio\")\n",
        "    rj.add_node(\"Romeo\")\n",
        "    rj.add_node(\"Mercutio\")\n",
        "    rj.add_node(\"Montague\")\n",
        "    rj.add_node(\"Paris\")\n",
        "    rj.add_node(\"Escalus\")\n",
        "\n",
        "    rj.add_edge(\"Juliet\", \"Tybalt\")\n",
        "    rj.add_edge(\"Nurse\", \"Juliet\")\n",
        "    rj.add_edge(\"Juliet\", \"Capulet\")\n",
        "    rj.add_edge(\"Juliet\", \"Romeo\")\n",
        "    rj.add_edge(\"Juliet\", \"Friar Laurence\")\n",
        "    rj.add_edge(\"Tybalt\", \"Capulet\")\n",
        "    rj.add_edge(\"Romeo\", \"Benvolio\")\n",
        "    rj.add_edge(\"Romeo\", \"Friar Laurence\")\n",
        "    rj.add_edge(\"Romeo\", \"Mercutio\")\n",
        "    rj.add_edge(\"Romeo\", \"Montague\")\n",
        "    rj.add_edge(\"Benvolio\", \"Montague\")\n",
        "    rj.add_edge(\"Mercutio\", \"Escalus\")\n",
        "    rj.add_edge(\"Montague\", \"Escalus\")\n",
        "    rj.add_edge(\"Paris\", \"Mercutio\")\n",
        "    rj.add_edge(\"Escalus\", \"Paris\")\n",
        "    rj.add_edge(\"Capulet\", \"Paris\")\n",
        "    rj.add_edge(\"Capulet\", \"Escalus\")\n",
        "\n",
        "    return rj\n",
        "\n",
        "\n",
        "def friends(graph, user):\n",
        "    return set(graph.neighbors(user))\n",
        "\n",
        "\n",
        "def friends_of_friends(graph, user):\n",
        "    userfriends = friends(graph, user)\n",
        "    finalfriends = set()\n",
        "    for names in userfriends:\n",
        "        friends_of_userfriends = friends(graph, names)\n",
        "        for names2 in friends_of_userfriends:\n",
        "            if(names2 not in userfriends and names2 != user):\n",
        "                finalfriends.add(names2)\n",
        "    return finalfriends\n",
        "\n",
        "\n",
        "def common_friends(graph, user1, user2):\n",
        "    user1friends = friends(graph, user1)\n",
        "    user2friends = friends(graph, user2)\n",
        "    commonfriends = user1friends.intersection(user2friends)\n",
        "    return commonfriends\n",
        "\n",
        "\n",
        "def number_of_common_friends_map(graph, user):\n",
        "    all_names = set(graph.nodes())\n",
        "    all_names.remove(user)\n",
        "    users_friends = friends(graph, user)\n",
        "    friend_map = {}\n",
        "    for names in all_names:\n",
        "        temp_friends = common_friends(graph, user, names)\n",
        "        num_friends = len(temp_friends)\n",
        "        if num_friends > 0 and names not in users_friends:\n",
        "            friend_map[names] = num_friends\n",
        "    return friend_map\n",
        "\n",
        "\n",
        "def number_map_sorted_list(friendmap):\n",
        "    temp_list = sorted(friendmap.items(),\n",
        "                       key=operator.itemgetter(1), reverse=True)\n",
        "    friend_list = [items[0] for items in temp_list]\n",
        "    return friend_list\n",
        "\n",
        "\n",
        "def recommend_by_number_of_common_friends(graph, user):\n",
        "    friendmap = number_of_common_friends_map(graph, user)\n",
        "    friend_recommend = number_map_sorted_list(friendmap)\n",
        "    return friend_recommend\n",
        "\n",
        "\n",
        "def create_facebook_graph(file_path):\n",
        "    fb_file = open(file_path, \"r\")\n",
        "    fb_data_list = fb_file.readlines()\n",
        "    fb_graph = nx.Graph()\n",
        "\n",
        "    for data in fb_data_list:\n",
        "        friend_list = data.split()\n",
        "        friend_one = friend_list[0]\n",
        "        friend_two = friend_list[1]\n",
        "        fb_graph.add_node(friend_one)\n",
        "        fb_graph.add_node(friend_two)\n",
        "        fb_graph.add_edge(friend_one, friend_two)\n",
        "    print(nx.info(fb_graph))\n",
        "    return fb_graph\n",
        "\n",
        "\n",
        "def draw_facebook_graph(graph):\n",
        "    nx.draw(graph)\n",
        "    plt.savefig(\"fb.pdf\")\n",
        "    plt.show()\n",
        "\n",
        "\n",
        "def influence_map(graph, user):\n",
        "    result = 0\n",
        "    friends_influence = dict()\n",
        "    friendmap = number_of_common_friends_map(graph, user)\n",
        "    for k in friendmap.keys():\n",
        "        x = common_friends(graph, k, user)\n",
        "        for cf in x:\n",
        "            no_of_friends = len(friends(graph, cf))\n",
        "            result = result + (float(1)/no_of_friends)\n",
        "        friends_influence[k] = result\n",
        "        result = 0\n",
        "    return friends_influence\n",
        "\n",
        "\n",
        "def recommend_by_influence(graph, user):\n",
        "    friendmap = influence_map(graph, user)\n",
        "    return number_map_sorted_list(friendmap)\n",
        "\n",
        "\n",
        "def evaluate_recommender(graph):\n",
        "    result = [\"Number of friends in common\", \"Influence\"]\n",
        "    tot_rank_common = float(0)\n",
        "    tot_rank_influence = float(0)\n",
        "    num_inf_trials = float(0)\n",
        "    num_common_trials = float(0)\n",
        "\n",
        "    for i in range(100):\n",
        "        friend_1 = random.choice(list(graph.nodes.keys()))\n",
        "        friend_2 = random.choice(list(friends(graph, friend_1)))\n",
        "        graph.remove_edge(friend_1, friend_2)\n",
        "        rank_inf, num_inf = influence_rank_calc(graph, friend_1, friend_2)\n",
        "        tot_rank_influence += rank_inf\n",
        "        num_inf_trials += num_inf\n",
        "        rank_common, num_common = common_rank_calc(graph, friend_1, friend_2)\n",
        "        tot_rank_common += rank_common\n",
        "        num_common_trials += num_common\n",
        "        graph.add_edge(friend_1, friend_2)\n",
        "\n",
        "    final_rank_common = tot_rank_common / num_common_trials\n",
        "    final_rank_influence = tot_rank_influence / num_inf_trials\n",
        "\n",
        "    print(\"Average rank of influence method: {} \\nAverage rank of number of friends in common method: {}\".format(final_rank_influence, final_rank_common))\n",
        "    print(\"{} method is better\".format(result[0] if final_rank_common < final_rank_influence else result[1]))\n",
        "\n",
        "\n",
        "def influence_rank_calc(graph, friend_1, friend_2):\n",
        "    f2_friends = recommend_by_influence(graph, friend_2)\n",
        "    f1_friends = recommend_by_influence(graph, friend_1)\n",
        "    return average_rank_calc(friend_1, friend_2, f1_friends, f2_friends)\n",
        "\n",
        "\n",
        "def common_rank_calc(graph, friend_1, friend_2):\n",
        "    f2_friends = recommend_by_number_of_common_friends(graph, friend_2)\n",
        "    f1_friends = recommend_by_number_of_common_friends(graph, friend_1)\n",
        "    return average_rank_calc(friend_1, friend_2, f1_friends, f2_friends)\n",
        "\n",
        "\n",
        "def average_rank_calc(friend_1, friend_2, f1_friends, f2_friends):\n",
        "    num_trials = float(0)\n",
        "    average = float(0)\n",
        "\n",
        "    f1_rank = get_friend_rank(f2_friends, friend_1)\n",
        "    f2_rank = get_friend_rank(f1_friends, friend_2)\n",
        "    if f1_rank > 0.0 and f2_rank > 0.0:\n",
        "        average = (f1_rank+f2_rank)/2.0\n",
        "        num_trials = num_trials+1.0\n",
        "    return average, num_trials\n",
        "\n",
        "\n",
        "def get_friend_rank(friends, friend):\n",
        "    rank = float(0)\n",
        "    if friend not in friends:\n",
        "        return rank\n",
        "    for f in friends:\n",
        "        rank += 1\n",
        "        if f == friend:\n",
        "            break\n",
        "    return rank\n",
        "\n",
        "\n",
        "def diff_algo(graph):\n",
        "    each_name = set(graph.nodes())\n",
        "    unchanged = list()\n",
        "    changed = list()\n",
        "    for names in each_name:\n",
        "        recommend_list = recommend_by_influence(graph, names)\n",
        "        common_list = recommend_by_number_of_common_friends(graph, names)\n",
        "        if recommend_list == common_list:\n",
        "            unchanged.append(names)\n",
        "        else:\n",
        "            changed.append(names)\n",
        "    print(\"unchanged = \", unchanged)\n",
        "    print(\"changed = \", changed)\n",
        "\n",
        "\n",
        "def top_10_common_fb(graph):\n",
        "    for m in graph:\n",
        "        n = int(m)\n",
        "        if n > 1 and n % 1000 == 0:\n",
        "            all_rec = recommend_by_number_of_common_friends(graph, m)\n",
        "            top_10_common_rec = all_rec[0:10]\n",
        "            print(\"rec for {0} is {1}\".format(n, top_10_common_rec))\n",
        "\n",
        "\n",
        "def top_10_influence_fb(graph):\n",
        "    for m in graph:\n",
        "        n = int(m)\n",
        "        if n > 1 and n % 1000 == 0:\n",
        "            reco = recommend_by_influence(graph, m)[:10]\n",
        "            print(n, reco)\n",
        "\n",
        "\n",
        "def main(argv):\n",
        "    if(len(argv) == 2):\n",
        "        fb_file_path = sys.argv[1]\n",
        "    else:\n",
        "        sys.exit(\"Facebook data file path is required..\")\n",
        "\n",
        "    print(\"\\n ************* ROMEO JULIET GRAPH *******************\\n\")\n",
        "    rj = create_romeojuliet_graph()\n",
        "\n",
        "    print(\"\\n **************Comparing two algorithms on romeo juliet graph *************\\n\")\n",
        "    diff_algo(rj)\n",
        "    print(\"\\n******** Computing average rank for the two algorithms on romeo-juliet graph ******\")\n",
        "    evaluate_recommender(rj)\n",
        "\n",
        "    print(\"\\n********** FACEBOOK GRAPH **************\\n\")\n",
        "    fb_graph = create_facebook_graph(file_path)\n",
        "\n",
        "    print(\"\\n********* Recommendation using common friends for some users in FACEBOOK GRAPH ********\\n\")\n",
        "    top_10_common_fb(fb_graph)\n",
        "\n",
        "    print(\"\\n******** Recommendation using influence algorithm for some users in FACEBOOK GRAPH **********\\n\")\n",
        "    top_10_influence_fb(fb_graph)\n",
        "\n",
        "    print(\"\\n******* Computing average rank for the two algorithms on FACEBOOK GRAPH *******\\n\")\n",
        "    evaluate_recommender(fb_graph)\n",
        "\n",
        "    if __name__ == \"__main__\":\n",
        "        main(sys.argv)\n"
      ],
      "execution_count": 35,
      "outputs": []
    },
    {
      "cell_type": "markdown",
      "metadata": {
        "id": "-Ro1Y6W9YN-y"
      },
      "source": [
        "The **friends** function takes the graph and user name as input and returns a set of the friends of the user.\n"
      ]
    },
    {
      "cell_type": "code",
      "metadata": {
        "colab": {
          "base_uri": "https://localhost:8080/"
        },
        "id": "0tn9zAAVYPDA",
        "outputId": "e378c0b9-d9e9-4b61-9455-8892f8afb120"
      },
      "source": [
        "m=friends(p_graph,'A')\n",
        "print(m)"
      ],
      "execution_count": 3,
      "outputs": [
        {
          "output_type": "stream",
          "text": [
            "{'C', 'B'}\n"
          ],
          "name": "stdout"
        }
      ]
    },
    {
      "cell_type": "markdown",
      "metadata": {
        "id": "E3ekgAAAYnwp"
      },
      "source": [
        "The **friends_of_friends** method takes the graph and user as the input and returns a set of users who are friends of friends of the input user. The output set neither includes the input user nor any of his friends for e.g in our practice graph, A is friends with B and C who are friends with D and F hence the output set for A will contain D and F nodes."
      ]
    },
    {
      "cell_type": "code",
      "metadata": {
        "colab": {
          "base_uri": "https://localhost:8080/"
        },
        "id": "gj5QPPTdYoqn",
        "outputId": "03dc183c-a363-4313-a99a-de6c33595a3b"
      },
      "source": [
        "n=friends_of_friends(p_graph,'A')\n",
        "print(n)"
      ],
      "execution_count": 4,
      "outputs": [
        {
          "output_type": "stream",
          "text": [
            "{'F', 'D'}\n"
          ],
          "name": "stdout"
        }
      ]
    },
    {
      "cell_type": "markdown",
      "metadata": {
        "id": "EuVTEgcmY3UP"
      },
      "source": [
        "The **common_friends** function take graph, user1 and user2 as input and returns the set of common friends between user 1 and user 2. In our graph A and B have one common friend C."
      ]
    },
    {
      "cell_type": "code",
      "metadata": {
        "colab": {
          "base_uri": "https://localhost:8080/"
        },
        "id": "Xjuf8okzY4Jt",
        "outputId": "bd3a87f2-ebfa-4ed7-d94e-71e40ffe3073"
      },
      "source": [
        "o=common_friends(p_graph,'A','B')\n",
        "print(o)"
      ],
      "execution_count": 6,
      "outputs": [
        {
          "output_type": "stream",
          "text": [
            "{'C'}\n"
          ],
          "name": "stdout"
        }
      ]
    },
    {
      "cell_type": "markdown",
      "metadata": {
        "id": "gs2wRoeCZMKY"
      },
      "source": [
        "The **number_of_common_friends_map** method takes the graph and user as the input and returns a map whose keys are users and values are count of common friends between them and input user. These users can neither be the the input user nor can they be friends of the input user but they should have atleast one common friend with the input user.\n",
        "In our graph A has two common friends with D and 1 common friend with F. E won't be a part of the output for A because they have 0 common friends also B and C won't be included because they are already friends with A.\n"
      ]
    },
    {
      "cell_type": "code",
      "metadata": {
        "colab": {
          "base_uri": "https://localhost:8080/"
        },
        "id": "tvA7LZj7ZNwr",
        "outputId": "78c73d48-06cb-419b-d9bc-ae384a2a55ef"
      },
      "source": [
        "q2=number_of_common_friends_map(p_graph,'A')\n",
        "print(q2)"
      ],
      "execution_count": 7,
      "outputs": [
        {
          "output_type": "stream",
          "text": [
            "{'F': 1, 'D': 2}\n"
          ],
          "name": "stdout"
        }
      ]
    },
    {
      "cell_type": "markdown",
      "metadata": {
        "id": "0iv9mEwhZfdv"
      },
      "source": [
        "The **number_map_sorted_list** method takes the map whose keys are users and values are number of common friends as input and gives a list of users as output sorted in descending order of their number of common friends.\n",
        "For A the order will be D then F. If there are are same number of common friends then the users will be arranged in their natural order.\n"
      ]
    },
    {
      "cell_type": "code",
      "metadata": {
        "colab": {
          "base_uri": "https://localhost:8080/"
        },
        "id": "k1VfVpPmZiHp",
        "outputId": "d7ec5bb7-434c-40f3-b854-e13a02501322"
      },
      "source": [
        "r = number_map_sorted_list(q2)\n",
        "print(r)"
      ],
      "execution_count": 8,
      "outputs": [
        {
          "output_type": "stream",
          "text": [
            "['D', 'F']\n"
          ],
          "name": "stdout"
        }
      ]
    },
    {
      "cell_type": "markdown",
      "metadata": {
        "id": "-mq1EoBsZ_ZG"
      },
      "source": [
        "The **recommend_by_number_of_common_friends** takes the graph and user as input. It calls number_of_common_friends_map and number_map_sorted_list methods and returns the sorted friend recommendation list for the input user as output.\n",
        "From our graph we can see that the recommendation List for D only has A and the list for F has B,E and A.\n"
      ]
    },
    {
      "cell_type": "code",
      "metadata": {
        "colab": {
          "base_uri": "https://localhost:8080/"
        },
        "id": "FwUyl-SIaCam",
        "outputId": "916f171d-278b-4cb6-a5ac-bf3b59ee3d08"
      },
      "source": [
        "t = recommend_by_number_of_common_friends(p_graph,'D')\n",
        "print(\"Recommendation list for D\",t)\n",
        "u = recommend_by_number_of_common_friends(p_graph,'F')\n",
        "print(\"Recommendation list for F\",u)"
      ],
      "execution_count": 9,
      "outputs": [
        {
          "output_type": "stream",
          "text": [
            "Recommendation list for D ['A']\n",
            "Recommendation list for F ['B', 'E', 'A']\n"
          ],
          "name": "stdout"
        }
      ]
    },
    {
      "cell_type": "markdown",
      "metadata": {
        "id": "hnEMXOvkaiTR"
      },
      "source": [
        "# **Algorithm 2 - Recommend By Influence**"
      ]
    },
    {
      "cell_type": "markdown",
      "metadata": {
        "id": "UpRJFZn2aqPv"
      },
      "source": [
        "Consider the following hypothetical situation.\n",
        "Two of your friends are X and Y\n",
        "X has only two friends (you and one other person). Y has 7 billion friends.\n",
        "X and Y have no friends in common (besides you).\n",
        "Since X is highly selective in terms of friendship, and is a friend of yours, you are likely to have a lot in common with J.D.'s other friend. On the other hand, Y is indiscriminate and there is little reason to believe that you should be friendly with any one of Y's other friends.\n",
        "Incorporate the above idea into your friend recommendation algorithm. Here is the concrete way that you will do so. We call the technique \"influence scoring\".\n",
        "Suppose that user1 and user2 have three friends in common: f1, f2, and f3.\n",
        "In this problem, the score for user2 as a friend of user1 is\n",
        "Score\t= 1/numfriends(fl)+\t1/numfriends(f2)+1/numfriends(f3) where numfriends(f) is the number of friends that f has.\n",
        "In other words, each friend F of user 1 has a total influence score of 1 to contribute and divides it equally among all of Ps friends.\n",
        "\t1\ti\n",
        "In the example above, X's other friend would have a score of 2 ' and each of Y's friends would have a score\n"
      ]
    },
    {
      "cell_type": "code",
      "metadata": {
        "colab": {
          "base_uri": "https://localhost:8080/",
          "height": 353
        },
        "id": "VWqWsXejbJSm",
        "outputId": "b9ae85be-3ac2-481f-9ab8-ba1fd73a4b48"
      },
      "source": [
        "def create_romeojuliet_graph():\n",
        "    rj = nx.Graph()\n",
        "    rj.add_node(\"Tybalt\")\n",
        "    rj.add_node(\"Nurse\")\n",
        "    rj.add_node(\"Juliet\")\n",
        "    rj.add_node(\"Friar Laurence\")\n",
        "    rj.add_node(\"Capulet\")\n",
        "    rj.add_node(\"Benvolio\")\n",
        "    rj.add_node(\"Romeo\")\n",
        "    rj.add_node(\"Mercutio\")\n",
        "    rj.add_node(\"Montague\")\n",
        "    rj.add_node(\"Paris\")\n",
        "    rj.add_node(\"Escalus\")\n",
        "\n",
        "    rj.add_edge(\"Juliet\", \"Tybalt\")\n",
        "    rj.add_edge(\"Nurse\", \"Juliet\")\n",
        "    rj.add_edge(\"Juliet\", \"Capulet\")\n",
        "    rj.add_edge(\"Juliet\", \"Romeo\")\n",
        "    rj.add_edge(\"Juliet\", \"Friar Laurence\")\n",
        "    rj.add_edge(\"Tybalt\", \"Capulet\")\n",
        "    rj.add_edge(\"Romeo\", \"Benvolio\")\n",
        "    rj.add_edge(\"Romeo\", \"Friar Laurence\")\n",
        "    rj.add_edge(\"Romeo\", \"Mercutio\")\n",
        "    rj.add_edge(\"Romeo\", \"Montague\")\n",
        "    rj.add_edge(\"Benvolio\", \"Montague\")\n",
        "    rj.add_edge(\"Mercutio\", \"Escalus\")\n",
        "    rj.add_edge(\"Montague\", \"Escalus\")\n",
        "    rj.add_edge(\"Paris\", \"Mercutio\")\n",
        "    rj.add_edge(\"Escalus\", \"Paris\")\n",
        "    rj.add_edge(\"Capulet\", \"Paris\")\n",
        "    rj.add_edge(\"Capulet\", \"Escalus\")\n",
        "\n",
        "    return rj\n",
        "rj = create_romeojuliet_graph()\n",
        "nx.draw(rj,with_labels=True)\n",
        "plt.show()\n",
        "print(influence_map(rj, \"Juliet\"))\n",
        "recommend_by_influence(rj, \"Juliet\")"
      ],
      "execution_count": 17,
      "outputs": [
        {
          "output_type": "display_data",
          "data": {
            "image/png": "[encoded data removed]",
            "text/plain": [
              "<Figure size 432x288 with 1 Axes>"
            ]
          },
          "metadata": {
            "tags": []
          }
        },
        {
          "output_type": "stream",
          "text": [
            "{'Benvolio': 0.2, 'Montague': 0.2, 'Paris': 0.25, 'Mercutio': 0.2, 'Escalus': 0.25}\n"
          ],
          "name": "stdout"
        },
        {
          "output_type": "execute_result",
          "data": {
            "text/plain": [
              "['Paris', 'Escalus', 'Benvolio', 'Montague', 'Mercutio']"
            ]
          },
          "metadata": {
            "tags": []
          },
          "execution_count": 17
        }
      ]
    },
    {
      "cell_type": "markdown",
      "metadata": {
        "id": "o8oxDq8hcu8i"
      },
      "source": [
        "This algorithm can also be easily understood by using a practice graph, this time we will use the friendship graph for some of the characters of \"Romeo and Juliet\"\n",
        "Like the previous graph, an edge between person A and person B means that A considers B a friend, and also B considers A a friend\n"
      ]
    },
    {
      "cell_type": "markdown",
      "metadata": {
        "id": "HMZ0r7DEc4Y_"
      },
      "source": [
        "![image.png](data:image/png;base64,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)"
      ]
    },
    {
      "cell_type": "markdown",
      "metadata": {
        "id": "A5QBt5ZDdBMJ"
      },
      "source": [
        "We have implemented two methods **influence_map(graph,user)** and **recommend_by_influence(graph, user)** , the first method returns a map of users who have atleast one friend in common with the input user and are not the friends of input user. The values are their scores calculated by the score formula explained above. The Second method calls the influence_graph method and then just sorts the keys of the map according to the descending order of their values."
      ]
    },
    {
      "cell_type": "markdown",
      "metadata": {
        "id": "4rXWgac5dN4s"
      },
      "source": [
        "# **Comparing both the algorithms**"
      ]
    },
    {
      "cell_type": "markdown",
      "metadata": {
        "id": "dmiRfk1AddKp"
      },
      "source": [
        "Now as we have implemented both the algorithms it's time to start comparing them. We execute both the algorithms on the practice graph and find out the number of users for whom both the algorithms give same recommendations and the number of users for whom the recommendations are different."
      ]
    },
    {
      "cell_type": "markdown",
      "metadata": {
        "id": "SVzjzRs2dhbm"
      },
      "source": [
        "We have implemented the **diff_algo(graph)** method to compare both the algorithms. It takes the graph as input and prints two separate list of users, one of which includes users having same recommendations and the other one has users with different recommendations"
      ]
    },
    {
      "cell_type": "code",
      "metadata": {
        "colab": {
          "base_uri": "https://localhost:8080/"
        },
        "id": "gJwJeVl0dsK1",
        "outputId": "c2fa6d4a-4f7a-4706-8023-13a6bc781a6c"
      },
      "source": [
        "diff_algo(rj)"
      ],
      "execution_count": 20,
      "outputs": [
        {
          "output_type": "stream",
          "text": [
            "unchanged =  ['Romeo', 'Paris', 'Friar Laurence', 'Nurse']\n",
            "changed =  ['Juliet', 'Benvolio', 'Montague', 'Mercutio', 'Capulet', 'Tybalt', 'Escalus']\n"
          ],
          "name": "stdout"
        }
      ]
    },
    {
      "cell_type": "markdown",
      "metadata": {
        "id": "06mXj3y6eWT9"
      },
      "source": [
        "# **Loading Facebook Data**"
      ]
    },
    {
      "cell_type": "markdown",
      "metadata": {
        "id": "gaRFhHP5edNj"
      },
      "source": [
        "In this task we will create a graph of users using the facebook dataset and print the number of nodes and edges in the graph."
      ]
    },
    {
      "cell_type": "markdown",
      "metadata": {
        "id": "og1KY0Bue7Q0"
      },
      "source": [
        "We use methods **create_facebook_graph** and **draw_facebook_graph** to create and draw the graph respectively. The Facebook file name is facebook_combined.txt. It contains two columns of user idl and user id2. Every row in the dataset implies that there is the friendship edge between the two user ids."
      ]
    },
    {
      "cell_type": "code",
      "metadata": {
        "colab": {
          "base_uri": "https://localhost:8080/"
        },
        "id": "EPwfJjMGe_GX",
        "outputId": "e4de1950-b151-4715-fc7d-70b8d84080e3"
      },
      "source": [
        "file_path = \"/content/facebook_combined.txt\"\n",
        "fb_graph = create_facebook_graph(file_path)"
      ],
      "execution_count": 21,
      "outputs": [
        {
          "output_type": "stream",
          "text": [
            "Name: \n",
            "Type: Graph\n",
            "Number of nodes: 4039\n",
            "Number of edges: 88234\n",
            "Average degree:  43.6910\n"
          ],
          "name": "stdout"
        }
      ]
    },
    {
      "cell_type": "markdown",
      "metadata": {
        "id": "jnKGriOEf29a"
      },
      "source": [
        "# **Recommend by number of common friends on the Facebook data**"
      ]
    },
    {
      "cell_type": "markdown",
      "metadata": {
        "id": "wQ738YT4gFZx"
      },
      "source": [
        "Here we will execute the recommend by number of common friends on Facebook data."
      ]
    },
    {
      "cell_type": "markdown",
      "metadata": {
        "id": "VUFsi4RugSZr"
      },
      "source": [
        "We have implemented the **top_10_common_fb()** method. It uses the recommend_by_**number_of_common_friends** method. We will find the top 1 0 friend recommendation using algorithm-1 of user id 1000,2000,3000  and 4000"
      ]
    },
    {
      "cell_type": "code",
      "metadata": {
        "colab": {
          "base_uri": "https://localhost:8080/"
        },
        "id": "n0J_AWFlgsh4",
        "outputId": "008ce79a-4f59-41d6-8042-9e4379b8ac7d"
      },
      "source": [
        "top_10_common_fb(fb_graph)"
      ],
      "execution_count": 23,
      "outputs": [
        {
          "output_type": "stream",
          "text": [
            "rec for 1000 is ['1366', '1236', '1709', '1141', '1308', '1472', '1090', '1785', '1469', '1070']\n",
            "rec for 3000 is ['3426', '2755', '2782', '2750', '2864', '2974', '2940', '3022', '2916', '2994']\n",
            "rec for 2000 is ['2447', '1973', '1980', '2006', '1991', '2004', '2378', '2583', '2640', '1919']\n",
            "rec for 4000 is ['4014', '3982', '3988', '3993', '4004', '4019', '3997', '4023', '3994', '4018']\n"
          ],
          "name": "stdout"
        }
      ]
    },
    {
      "cell_type": "markdown",
      "metadata": {
        "id": "S4PdZQF2g-jG"
      },
      "source": [
        "# **Recommend by influence on the Facebook Data**"
      ]
    },
    {
      "cell_type": "markdown",
      "metadata": {
        "id": "5j0JZfOkhGSn"
      },
      "source": [
        "Here we will execute the recommend by influence algorithm on Facebook data."
      ]
    },
    {
      "cell_type": "markdown",
      "metadata": {
        "id": "JWp-XHX9hKoM"
      },
      "source": [
        "We have implemented the **top_10_influence_fb()** method. It uses the **recommend_by_influence** method. We will find the top 10 friend recommendation of user id 1000,2000,3000 and 4000 using algorithm-2"
      ]
    },
    {
      "cell_type": "code",
      "metadata": {
        "colab": {
          "base_uri": "https://localhost:8080/"
        },
        "id": "u8UTDIlfhVbK",
        "outputId": "b9f42f99-676e-4923-bb61-d4cae2a6c21f"
      },
      "source": [
        "top_10_influence_fb(fb_graph)"
      ],
      "execution_count": 24,
      "outputs": [
        {
          "output_type": "stream",
          "text": [
            "1000 ['1308', '1090', '1366', '1236', '1709', '1634', '1141', '1472', '1785', '1415']\n",
            "3000 ['2782', '2994', '2755', '2773', '2974', '2864', '3426', '2750', '2920', '2940']\n",
            "2000 ['1973', '2447', '1980', '2006', '1991', '2004', '2583', '2640', '2378', '1919']\n",
            "4000 ['4014', '3982', '3988', '3993', '4004', '4019', '4023', '3997', '3985', '3983']\n"
          ],
          "name": "stdout"
        }
      ]
    },
    {
      "cell_type": "markdown",
      "metadata": {
        "id": "tBu53xQphhw9"
      },
      "source": [
        "# **How good are the recommendations for the Romeo Juliet and Facebook Data**"
      ]
    },
    {
      "cell_type": "markdown",
      "metadata": {
        "id": "OztYAGUfhswk"
      },
      "source": [
        "Here we will check the accuracy of both the recommendation algorithms and find which one is better for our data by computing the average rank of both the algorithms on the Facebook and Romeo-Juliet graph."
      ]
    },
    {
      "cell_type": "markdown",
      "metadata": {
        "id": "SQ3gEPtShx09"
      },
      "source": [
        "We will test the two recommendation systems in the following way:\n",
        "\n",
        "1)\tRandomly choose a real friend connection; call the two friends Fl and F2.\n",
        "\n",
        "2)\tRemove their friendship from the graph.\n",
        "\n",
        "3)\tCompute friend recommendations for Fl and F2.\n",
        "\n",
        "4)\tDetermine the rank of Fl in F2's list of recommended friends.\n",
        "\n",
        "5)\tDetermine the rank of F2 in Fl 's list of recommended friends.\n",
        "\n",
        "6)\tIf either of these does not exist (e.g., F1 is not recommended as one of F2s friends), discard the F1F2 pair from the experiment.\n",
        "\n",
        "7)\tOtherwise, average these two numbers.\n",
        "\n",
        "8)\tThe \"rank\" is also known as the \"index\" or \"position\". It starts counting at 1, not 0.\n",
        "\n",
        "9)\tPut their friendship back in the graph.\n"
      ]
    },
    {
      "cell_type": "markdown",
      "metadata": {
        "id": "Eid4bBc6iNZe"
      },
      "source": [
        "We will repeat the above algorithm for 100 times on the Romeo-Juliet graph for both the recommendation system algorithms and compute the average rank. Based on the average rank we will decide which recommendation algorithm is better."
      ]
    },
    {
      "cell_type": "markdown",
      "metadata": {
        "id": "AR3V-x4SiSbq"
      },
      "source": [
        "Similarly we will compute the average rank for both the algorithms on the Facebook data as well. The logic behind using 1 00 random friendship edges is to avoid the possibility of getting an incorrect result because it could be possible that for some edges algorithm 1 is better but overall it is worse than algorithm 2 or vice versa. It is very unlikely that even after randomly choosing the friendship edges we would still suffer from the above error."
      ]
    },
    {
      "cell_type": "markdown",
      "metadata": {
        "id": "EeNRzdM8iX2L"
      },
      "source": [
        "We have used the following methods to compute the rank:\n",
        "\n",
        "1)\tget_friend_rank : This method calculates the rank of Fl in F2's list and vice versa\n",
        "\n",
        "2)\taverage_rank_calc : This method is used to calculate the average rank for a pair of friends\n",
        "\n",
        "3)\tcommon_rank_calc : This method calls average_rank_calc method to calculate rank for common friends algorithm \n",
        "\n",
        "4) influence_rank_calc : This method calls average_rank_calc method to calculate rank for influence friends algorithm\n",
        "\n",
        "5)  evaluate_recommender : This method computes the rank for 100 pairs of friendship for both the algorithms using the above methods and then decides which algorithm out of common friends and influence is better.\n"
      ]
    },
    {
      "cell_type": "code",
      "metadata": {
        "colab": {
          "base_uri": "https://localhost:8080/"
        },
        "id": "9G30j_ouio8o",
        "outputId": "4b01504b-cae7-4910-fc31-29e8e17f327e"
      },
      "source": [
        "import random\n",
        "import sys\n",
        "evaluate_recommender(rj)\n",
        "evaluate_recommender(fb_graph)"
      ],
      "execution_count": 36,
      "outputs": [
        {
          "output_type": "stream",
          "text": [
            "Average rank of influence method: 2.45625 \n",
            "Average rank of number of friends in common method: 3.0\n",
            "Influence method is better\n",
            "Average rank of influence method: 51.422680412371136 \n",
            "Average rank of number of friends in common method: 60.52061855670103\n",
            "Influence method is better\n"
          ],
          "name": "stdout"
        }
      ]
    },
    {
      "cell_type": "markdown",
      "metadata": {
        "id": "VHeYeTTcmkv-"
      },
      "source": [
        "We can see that influence recommendation is working more accurate for both Romeo Juliet Graph as well as Facebook Dataset Graph in which influence recommendation scored 2.45 whereas number of common friends recommendation scored 3.0 which says that Influence method is working more better than Friends of Friends algorithm which was proposed by Facebook.\n",
        "\n",
        "In Case of Huge Facebook Dataset Influence recommendation scored 51 whereas Number of Common Friends algorithm scored 60 making worst indexing but Influence Recommendation Algorithm is working more accurate and faster and it is scoring least ranking and making the recommedations accurate."
      ]
    },
    {
      "cell_type": "markdown",
      "metadata": {
        "id": "1h5CIBBkmR0e"
      },
      "source": [
        "# **Conclusion:**"
      ]
    },
    {
      "cell_type": "markdown",
      "metadata": {
        "id": "YErjafcOmY6H"
      },
      "source": [
        "After testing our recommendation algorithms on both the dataset we can see that Influence method is better for both the Romeo-Juliet graph and Facebook graph than the common friends algorithm since the average computed rank is less for the influence method than the number of common friends algorithm."
      ]
    }
  ]
}